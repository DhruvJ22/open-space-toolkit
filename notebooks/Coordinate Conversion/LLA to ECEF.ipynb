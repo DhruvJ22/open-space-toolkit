{
 "cells": [
  {
   "cell_type": "markdown",
   "id": "1df2d753-3542-4a06-b700-632d59a4541a",
   "metadata": {},
   "source": [
    "# LLA to ECEF Converter"
   ]
  },
  {
   "cell_type": "markdown",
   "id": "80200afc-988a-4396-8ac2-9019f8df4991",
   "metadata": {},
   "source": [
    "Convert Latitude, Longitude and Altitude (LLA) coordinates to Earth-Centered, Earth-Fixed (ECEF) coordinates.\n",
    "\n",
    "*Note: Geodetic latitude (WGS84) is used here.*"
   ]
  },
  {
   "cell_type": "code",
   "execution_count": 1,
   "id": "c956dfdc-4353-4397-9599-13c19bf3851c",
   "metadata": {},
   "outputs": [],
   "source": [
    "import ostk.physics\n",
    "import ostk.astrodynamics"
   ]
  },
  {
   "cell_type": "markdown",
   "id": "4de22e4e-5590-4566-82ce-e094afc7b157",
   "metadata": {},
   "source": [
    "---"
   ]
  },
  {
   "cell_type": "code",
   "execution_count": 2,
   "id": "4d7d9823-9667-4807-8a9c-852eafcd7312",
   "metadata": {},
   "outputs": [],
   "source": [
    "Length = ostk.physics.units.Length\n",
    "Angle = ostk.physics.units.Angle\n",
    "LLA = ostk.physics.coordinate.spherical.LLA\n",
    "\n",
    "Earth = ostk.physics.environment.objects.celestial_bodies.Earth"
   ]
  },
  {
   "cell_type": "markdown",
   "id": "40e49199-ee09-4eeb-bb8a-4e5a028b669d",
   "metadata": {},
   "source": [
    "---"
   ]
  },
  {
   "cell_type": "code",
   "execution_count": 3,
   "id": "54ab52ef-2713-4e89-8830-e108723d1258",
   "metadata": {},
   "outputs": [],
   "source": [
    "lla = LLA(Angle.degrees(65.0), Angle.degrees(-30.0), Length.meters(30.0))"
   ]
  },
  {
   "cell_type": "code",
   "execution_count": 4,
   "id": "b76d0811-f5be-4b3d-becb-1162f35d005c",
   "metadata": {},
   "outputs": [
    {
     "data": {
      "text/plain": [
       "array([ 2340841.98864643, -1351485.7522754 ,  5757737.03072958])"
      ]
     },
     "execution_count": 4,
     "metadata": {},
     "output_type": "execute_result"
    }
   ],
   "source": [
    "lla.to_cartesian(Earth.equatorial_radius, Earth.flattening)"
   ]
  },
  {
   "cell_type": "markdown",
   "id": "7ce5c980-97d3-44d2-805a-f0765ab264a9",
   "metadata": {},
   "source": [
    "---"
   ]
  }
 ],
 "metadata": {
  "kernelspec": {
   "display_name": "Python 3",
   "language": "python",
   "name": "python3"
  },
  "language_info": {
   "codemirror_mode": {
    "name": "ipython",
    "version": 3
   },
   "file_extension": ".py",
   "mimetype": "text/x-python",
   "name": "python",
   "nbconvert_exporter": "python",
   "pygments_lexer": "ipython3",
   "version": "3.9.2"
  }
 },
 "nbformat": 4,
 "nbformat_minor": 5
}
