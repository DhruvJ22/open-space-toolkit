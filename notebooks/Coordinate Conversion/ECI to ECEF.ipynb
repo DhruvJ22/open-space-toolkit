{
 "cells": [
  {
   "cell_type": "markdown",
   "id": "1df2d753-3542-4a06-b700-632d59a4541a",
   "metadata": {},
   "source": [
    "# ECI to ECEF Converter"
   ]
  },
  {
   "cell_type": "markdown",
   "id": "80200afc-988a-4396-8ac2-9019f8df4991",
   "metadata": {},
   "source": [
    "Convert **Earth-Centered Inertial (ECI)** to **Earth-Centered, Earth-Fixed (ECEF)** coordinates."
   ]
  },
  {
   "cell_type": "code",
   "execution_count": 5,
   "id": "c956dfdc-4353-4397-9599-13c19bf3851c",
   "metadata": {},
   "outputs": [],
   "source": [
    "import ostk.physics"
   ]
  },
  {
   "cell_type": "code",
   "execution_count": 6,
   "id": "4d7d9823-9667-4807-8a9c-852eafcd7312",
   "metadata": {},
   "outputs": [],
   "source": [
    "Scale = ostk.physics.time.Scale\n",
    "Instant = ostk.physics.time.Instant\n",
    "DateTime = ostk.physics.time.DateTime\n",
    "Position = ostk.physics.coordinate.Position\n",
    "Velocity = ostk.physics.coordinate.Velocity\n",
    "Frame = ostk.physics.coordinate.Frame"
   ]
  },
  {
   "cell_type": "markdown",
   "id": "40e49199-ee09-4eeb-bb8a-4e5a028b669d",
   "metadata": {},
   "source": [
    "---"
   ]
  },
  {
   "cell_type": "code",
   "execution_count": 7,
   "id": "54ab52ef-2713-4e89-8830-e108723d1258",
   "metadata": {},
   "outputs": [],
   "source": [
    "eci = Frame.GCRF()  # Geocentric Celestial Reference Frame (GCRF)\n",
    "# eci = Frame.TEME()  # Mean of Date (MOD) frame\n",
    "# eci = Frame.MOD()  # True Equator, Mean Equinox (TEME) frame"
   ]
  },
  {
   "cell_type": "code",
   "execution_count": 8,
   "id": "64366c1c-ce5e-4d16-b2fb-36048f7fe6b3",
   "metadata": {},
   "outputs": [],
   "source": [
    "ecef = Frame.ITRF()  # International Terrestrial Reference Frame (ITRF)"
   ]
  },
  {
   "cell_type": "code",
   "execution_count": 9,
   "id": "36c30b8f-d485-4698-8c94-0f361f83a72d",
   "metadata": {},
   "outputs": [],
   "source": [
    "instant = Instant.date_time(DateTime(2020, 10, 31, 0, 0, 0), Scale.UTC)"
   ]
  },
  {
   "cell_type": "code",
   "execution_count": 10,
   "id": "5ffcffdb-b497-48ca-8b96-65f1893e3089",
   "metadata": {},
   "outputs": [
    {
     "name": "stdout",
     "output_type": "stream",
     "text": [
      "Fetching latest Bulletin A...\n",
      "Creating temporary directory [/notebooks/Coordinate Conversion/open-space-toolkit/physics/coordinate/frame/providers/iers/tmp]...\n",
      "Locking local repository [/notebooks/Coordinate Conversion/open-space-toolkit/physics/coordinate/frame/providers/iers]...\n",
      "Fetching Bulletin A from [https://storage.googleapis.com/open-space-collective/library/physics/coordinate/frame/providers/iers/latest/ser7.dat]...\n",
      "Unlocking local repository [/notebooks/Coordinate Conversion/open-space-toolkit/physics/coordinate/frame/providers/iers]...\n",
      "Bulletin A [/notebooks/Coordinate Conversion/open-space-toolkit/physics/coordinate/frame/providers/iers/2021-11-04/ser7.dat] has been successfully fetched from [https://storage.googleapis.com/open-space-collective/library/physics/coordinate/frame/providers/iers/latest/ser7.dat].\n",
      "Locking local repository [/notebooks/Coordinate Conversion/open-space-toolkit/physics/coordinate/frame/providers/iers]...\n",
      "Fetching Finals 2000A from [https://storage.googleapis.com/open-space-collective/library/physics/coordinate/frame/providers/iers/latest/finals2000A.data]...\n",
      "Unlocking local repository [/notebooks/Coordinate Conversion/open-space-toolkit/physics/coordinate/frame/providers/iers]...\n",
      "Finals 2000A [/notebooks/Coordinate Conversion/open-space-toolkit/physics/coordinate/frame/providers/iers/2021-11-08/finals2000A.data] has been successfully fetched from [https://storage.googleapis.com/open-space-collective/library/physics/coordinate/frame/providers/iers/latest/finals2000A.data].\n"
     ]
    }
   ],
   "source": [
    "transform_ECEF_ECI = eci.get_transform_to(ecef, instant)"
   ]
  },
  {
   "cell_type": "code",
   "execution_count": 11,
   "id": "feee060b-9ff8-4f8f-8cb1-342be9c32bd6",
   "metadata": {},
   "outputs": [],
   "source": [
    "x_ECI = (1.0, 0.0, 0.0)\n",
    "v_ECI = (1.0, 0.0, 0.0)"
   ]
  },
  {
   "cell_type": "code",
   "execution_count": 12,
   "id": "abe82107-cf7d-462c-80a5-eda7808f57c5",
   "metadata": {},
   "outputs": [],
   "source": [
    "x_ECEF = transform_ECEF_ECI.apply_to_position(x_ECI)\n",
    "v_ECEF = transform_ECEF_ECI.apply_to_velocity(x_ECI, v_ECI)"
   ]
  },
  {
   "cell_type": "code",
   "execution_count": 13,
   "id": "f72e01c1-73fe-4676-98ae-3ac9b66750be",
   "metadata": {},
   "outputs": [
    {
     "name": "stdout",
     "output_type": "stream",
     "text": [
      "x_ECEF = [ 0.77172317 -0.63595551  0.00198653]\n",
      "v_ECEF = [ 0.77167679 -0.63601178  0.00198653]\n"
     ]
    }
   ],
   "source": [
    "print(f'x_ECEF = {x_ECEF}')\n",
    "print(f'v_ECEF = {v_ECEF}')"
   ]
  },
  {
   "cell_type": "markdown",
   "id": "7ce5c980-97d3-44d2-805a-f0765ab264a9",
   "metadata": {},
   "source": [
    "---"
   ]
  }
 ],
 "metadata": {
  "kernelspec": {
   "display_name": "Python 3 (ipykernel)",
   "language": "python",
   "name": "python3"
  },
  "language_info": {
   "codemirror_mode": {
    "name": "ipython",
    "version": 3
   },
   "file_extension": ".py",
   "mimetype": "text/x-python",
   "name": "python",
   "nbconvert_exporter": "python",
   "pygments_lexer": "ipython3",
   "version": "3.9.7"
  }
 },
 "nbformat": 4,
 "nbformat_minor": 5
}
